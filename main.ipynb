{
 "cells": [
  {
   "cell_type": "markdown",
   "metadata": {},
   "source": [
    "# Homework 2\n",
    "\n",
    "**Name:** Oscar Eduardo Arámbula Vega\n",
    "\n",
    "**e-mail:** [oscar.arambula4388@alumnos.udg.mx](mailto:oscar.arambula4388@alumnos.udg.mx)"
   ]
  },
  {
   "cell_type": "markdown",
   "metadata": {},
   "source": [
    "# Modules\n",
    "\n"
   ]
  },
  {
   "cell_type": "code",
   "metadata": {
    "ExecuteTime": {
     "end_time": "2025-03-03T01:36:18.542924Z",
     "start_time": "2025-03-03T01:36:17.216200Z"
    }
   },
   "source": [
    "# Load modules\n",
    "import numpy as np\n",
    "import pandas as pd\n",
    "\n",
    "import matplotlib.pyplot as plt\n",
    "import plotly.graph_objects as go\n",
    "\n",
    "from scipy.stats import wrapcauchy, levy_stable\n",
    "from scipy.spatial import distance"
   ],
   "outputs": [],
   "execution_count": 2
  },
  {
   "cell_type": "markdown",
   "metadata": {},
   "source": [
    "## **Activity 1:** Path length - (BM1 vs BM2 vs CRW)\n",
    "\n",
    "<details>\n",
    "  <summary style=\"cursor: pointer; color: gray\">Requirements</summary>\n",
    "\n",
    "  * **Write a function** that returns a **Brownian Motion (BM)** trajectory in a pandas DataFrame.\n",
    "  * **Write a function** that returns a **Correlated Random Walk (CRW)** trajectory in a pandas DataFrame.\n",
    "  * **Write a function** that returns the **path length** for a given trajectory.\n",
    "  * **Compare** at least the path length of *three trajectories* as shown in the figure below.\n",
    "  * **Display the results** using Plotly.\n",
    "</details>"
   ]
  },
  {
   "cell_type": "code",
   "metadata": {
    "ExecuteTime": {
     "end_time": "2025-03-03T01:36:20.682698Z",
     "start_time": "2025-03-03T01:36:20.678343Z"
    }
   },
   "source": [
    "def brownian_motion_2d(\n",
    "    steps: int,\n",
    "    length: float = 1.0,\n",
    "    start: tuple = (0, 0),\n",
    ") -> pd.DataFrame:\n",
    "    \"\"\"\n",
    "    Generate a 2D Brownian motion trajectory.\n",
    "    \"\"\"\n",
    "    # Choose random angles randomly between (0, 90, 180, 270) degrees in radians.\n",
    "    angles = np.random.choice([0, np.pi / 2, np.pi, 3 * np.pi / 2], size=steps - 1)\n",
    "\n",
    "    # Cumulative angles\n",
    "    cumulative_angles = np.cumsum(angles)\n",
    "\n",
    "    # Velocities with a length of 1.0\n",
    "    velocities = np.column_stack([np.cos(cumulative_angles), np.sin(cumulative_angles)])\n",
    "\n",
    "    # We adjust vectors' length\n",
    "    velocities *= length\n",
    "\n",
    "    # Prepend the initial position\n",
    "    velocities = np.vstack([start, velocities])\n",
    "\n",
    "    # The cumulative sum of the velocities\n",
    "    positions = np.cumsum(velocities, axis=0)\n",
    "\n",
    "    # Wrap the positions in a pandas DataFrame\n",
    "    return pd.DataFrame(positions, columns=[\"x\", \"y\"])"
   ],
   "outputs": [],
   "execution_count": 3
  },
  {
   "metadata": {
    "ExecuteTime": {
     "end_time": "2025-03-03T01:36:23.865158Z",
     "start_time": "2025-03-03T01:36:23.861425Z"
    }
   },
   "cell_type": "code",
   "source": [
    "def correlated_random_walk_2d(\n",
    "    steps: int,\n",
    "    length: float = 1.0,\n",
    "    start: tuple = (0, 0),\n",
    "    c: float = 0.5,\n",
    ") -> pd.DataFrame:\n",
    "    \"\"\"\n",
    "    Generate a 2D correlated random walk trajectory.\n",
    "    \"\"\"\n",
    "    # Choose random angles randomly between (0, 90, 180, 270) degrees in radians.\n",
    "    angles = wrapcauchy.rvs(c=c, size=steps - 1)\n",
    "\n",
    "    # Cumulative angles\n",
    "    cumulative_angles = np.cumsum(angles)\n",
    "\n",
    "    # Velocities with a length of 1.0\n",
    "    velocities = np.column_stack([np.cos(cumulative_angles), np.sin(cumulative_angles)])\n",
    "\n",
    "    # We adjust vectors' length\n",
    "    velocities *= length\n",
    "\n",
    "    # Prepend the initial position\n",
    "    velocities = np.vstack([start, velocities])\n",
    "\n",
    "    # The cumulative sum of the velocities\n",
    "    positions = np.cumsum(velocities, axis=0)\n",
    "\n",
    "    # Wrap the positions in a pandas DataFrame\n",
    "    return pd.DataFrame(positions, columns=[\"x\", \"y\"])"
   ],
   "outputs": [],
   "execution_count": 4
  },
  {
   "metadata": {},
   "cell_type": "markdown",
   "source": [
    "### Path lengths\n",
    "\n",
    "To create the function that returns the cumulative path length of a walk, I took a different approach to the seen in class.\n",
    "\n",
    "I use a vectorized version. To achieve this, I used two properties of linear algebra:\n",
    "  * If you substract a vector from another, you get a difference vector.\n",
    "  * The magnitute/length of a vector is the Euclidean distance."
   ]
  },
  {
   "metadata": {
    "ExecuteTime": {
     "end_time": "2025-03-03T01:50:35.289383Z",
     "start_time": "2025-03-03T01:50:35.285334Z"
    }
   },
   "cell_type": "code",
   "source": [
    "def cum_path_length(path: pd.DataFrame) -> float:\n",
    "    \"\"\"\n",
    "    Compute the path length of a trajectory.\n",
    "    \"\"\"\n",
    "    # Compute the lengths of each vector resulting from the difference between\n",
    "    # each following point.\n",
    "    distances = np.linalg.norm(\n",
    "        path.values[:-1] - path.values[1:],\n",
    "        axis=1,\n",
    "    )\n",
    "\n",
    "    # Return the cumulative sum of the distances\n",
    "    return np.cumsum(distances)"
   ],
   "outputs": [],
   "execution_count": 7
  },
  {
   "metadata": {
    "ExecuteTime": {
     "end_time": "2025-03-03T01:36:51.839329Z",
     "start_time": "2025-03-03T01:36:51.830884Z"
    }
   },
   "cell_type": "code",
   "source": [
    "# bm = brownian_motion_2d(steps=1000)\n",
    "#\n",
    "# plt.plot(bm.x, bm.y)\n",
    "# plt.show()\n",
    "\n",
    "crw = correlated_random_walk_2d(steps=10_000, c=0.7)\n",
    "\n",
    "cum_path_length(crw)\n",
    "\n",
    "# fig = go.Figure()\n",
    "#\n",
    "# fig.add_trace(\n",
    "#     go.Scatter(\n",
    "#         x=crw.x,\n",
    "#         y=crw.y,\n",
    "#         marker=dict(size=2),\n",
    "#         line=dict(width=1),\n",
    "#         mode=\"lines\",\n",
    "#         name=\"CRW - Cauchy 0.7\",\n",
    "#         showlegend=True,\n",
    "#     ),\n",
    "# )\n",
    "#\n",
    "# fig.update_layout(\n",
    "#     title_text=\"Correlated Random Walk - Cauchy 0.7\",\n",
    "#     autosize=False,\n",
    "#     width=700,\n",
    "#     height=700,\n",
    "# )\n",
    "#\n",
    "# fig.show()"
   ],
   "outputs": [
    {
     "data": {
      "text/plain": [
       "array([1.000e+00, 2.000e+00, 3.000e+00, ..., 9.997e+03, 9.998e+03,\n",
       "       9.999e+03], shape=(9999,))"
      ]
     },
     "execution_count": 6,
     "metadata": {},
     "output_type": "execute_result"
    }
   ],
   "execution_count": 6
  },
  {
   "cell_type": "markdown",
   "metadata": {},
   "source": [
    "## **Activity 2:** Mean Squared Displacement - (BM vs CRW)\n",
    "\n",
    "<details>\n",
    "  <summary style=\"cursor: pointer; color: gray\">Requirements</summary>\n",
    "\n",
    "  * **Write a function** that returns the **mean squared displacement** for a given trajectory.\n",
    "  * **Compare** the mean squared displacement curves of at least *two trajectories* of different kinds, as shown in the figure below.\n",
    "  * **Display the results** using Plotly.\n",
    "</details>"
   ]
  },
  {
   "cell_type": "code",
   "execution_count": 3,
   "metadata": {
    "ExecuteTime": {
     "end_time": "2025-03-01T15:32:50.772013Z",
     "start_time": "2025-03-01T15:32:50.769117Z"
    }
   },
   "outputs": [],
   "source": [
    "# Parameters\n"
   ]
  },
  {
   "cell_type": "markdown",
   "metadata": {},
   "source": [
    "## **Activity 3:** Turning-angle Distribution - (Source Dist. vs Observed Dist.)\n",
    "\n",
    "<details>\n",
    "  <summary style=\"cursor: pointer; color: gray\">Requirements</summary>\n",
    "\n",
    "  * **Consider** *two CRW trajectories* with different **Cauchy coefficients**.\n",
    "  * **Write a function** that returns the **turning angles** for a given trajectory.\n",
    "  * **Compare** the observed distribution (*histogram*) to the source distribution (*curve*) for both trajectories, as shown in the figure below.\n",
    "  * **Display the results** using Plotly.\n",
    "</details>"
   ]
  },
  {
   "cell_type": "code",
   "execution_count": 4,
   "metadata": {
    "ExecuteTime": {
     "end_time": "2025-03-01T15:38:32.931180Z",
     "start_time": "2025-03-01T15:38:32.928195Z"
    }
   },
   "outputs": [],
   "source": [
    "# Parameters\n"
   ]
  },
  {
   "cell_type": "markdown",
   "metadata": {},
   "source": [
    "## **Activity 4:** Step-length Distribution - (Source Dist. vs Observed Dist.)\n",
    "\n",
    "<details>\n",
    "  <summary style=\"cursor: pointer; color: gray\">Requirements</summary>\n",
    "\n",
    "  * **Write a function** that returns a **Lévy Walk (LW)** trajectory in a pandas DataFrame.\n",
    "  * **Consider** *two LW trajectories* with different **alpha coefficients**.\n",
    "  * **Write a function** that returns the **step lengths** for a given trajectory.\n",
    "  * **Compare** the observed distribution (*histogram*) to the source distribution (*curve*) for both trajectories, as shown in the figure below.\n",
    "  * **Display the results** using Plotly.\n",
    "</details>"
   ]
  },
  {
   "cell_type": "code",
   "execution_count": 5,
   "metadata": {
    "ExecuteTime": {
     "end_time": "2025-03-01T15:39:27.811734Z",
     "start_time": "2025-03-01T15:39:27.808879Z"
    }
   },
   "outputs": [],
   "source": [
    "# Parameters\n"
   ]
  }
 ],
 "metadata": {
  "kernelspec": {
   "display_name": "Python 3 (ipykernel)",
   "language": "python",
   "name": "python3"
  },
  "language_info": {
   "name": "python"
  }
 },
 "nbformat": 4,
 "nbformat_minor": 2
}
