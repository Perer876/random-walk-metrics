{
 "cells": [
  {
   "cell_type": "markdown",
   "metadata": {},
   "source": [
    "# Homework 2\n",
    "\n",
    "**Name:** Oscar Eduardo Arámbula Vega\n",
    "\n",
    "**e-mail:** [oscar.arambula4388@alumnos.udg.mx](mailto:oscar.arambula4388@alumnos.udg.mx)"
   ]
  },
  {
   "cell_type": "markdown",
   "metadata": {},
   "source": [
    "# Modules\n",
    "\n"
   ]
  },
  {
   "cell_type": "code",
   "metadata": {
    "ExecuteTime": {
     "end_time": "2025-03-01T15:32:29.456223Z",
     "start_time": "2025-03-01T15:32:27.953178Z"
    }
   },
   "source": [
    "# Load modules\n",
    "import numpy as np\n",
    "import matplotlib.pyplot as plt\n",
    "import plotly.graph_objects as go"
   ],
   "outputs": [],
   "execution_count": 1
  },
  {
   "cell_type": "markdown",
   "metadata": {},
   "source": [
    "## **Activity 1:** Path length - (BM1 vs BM2 vs CRW)\n",
    "\n",
    "<details>\n",
    "  <summary style=\"cursor: pointer; color: gray\">Requirements</summary>\n",
    "\n",
    "  * **Write a function** that returns a **Brownian Motion (BM)** trajectory in a pandas DataFrame.\n",
    "  * **Write a function** that returns a **Correlated Random Walk (CRW)** trajectory in a pandas DataFrame.\n",
    "  * **Write a function** that returns the **path length** for a given trajectory.\n",
    "  * **Compare** at least the path length of *three trajectories* as shown in the figure below.\n",
    "  * **Display the results** using Plotly.\n",
    "</details>"
   ]
  },
  {
   "cell_type": "code",
   "metadata": {
    "ExecuteTime": {
     "end_time": "2025-03-01T15:32:32.951020Z",
     "start_time": "2025-03-01T15:32:32.947219Z"
    }
   },
   "source": "# Parameters\n",
   "outputs": [],
   "execution_count": 2
  },
  {
   "cell_type": "markdown",
   "metadata": {},
   "source": [
    "## **Activity 2:** Mean Squared Displacement - (BM vs CRW)\n",
    "\n",
    "<details>\n",
    "  <summary style=\"cursor: pointer; color: gray\">Requirements</summary>\n",
    "\n",
    "  * **Write a function** that returns the **mean squared displacement** for a given trajectory.\n",
    "  * **Compare** the mean squared displacement curves of at least *two trajectories* of different kinds, as shown in the figure below.\n",
    "  * **Display the results** using Plotly.\n",
    "</details>"
   ]
  },
  {
   "cell_type": "code",
   "metadata": {
    "ExecuteTime": {
     "end_time": "2025-03-01T15:32:50.772013Z",
     "start_time": "2025-03-01T15:32:50.769117Z"
    }
   },
   "source": "# Parameters\n",
   "outputs": [],
   "execution_count": 3
  },
  {
   "cell_type": "markdown",
   "metadata": {},
   "source": [
    "## **Activity 3:** Turning-angle Distribution - (Source Dist. vs Observed Dist.)\n",
    "\n",
    "<details>\n",
    "  <summary style=\"cursor: pointer; color: gray\">Requirements</summary>\n",
    "\n",
    "  * **Consider** *two CRW trajectories* with different **Cauchy coefficients**.\n",
    "  * **Write a function** that returns the **turning angles** for a given trajectory.\n",
    "  * **Compare** the observed distribution (*histogram*) to the source distribution (*curve*) for both trajectories, as shown in the figure below.\n",
    "  * **Display the results** using Plotly.\n",
    "</details>"
   ]
  },
  {
   "cell_type": "code",
   "metadata": {
    "ExecuteTime": {
     "end_time": "2025-03-01T15:38:32.931180Z",
     "start_time": "2025-03-01T15:38:32.928195Z"
    }
   },
   "source": "# Parameters\n",
   "outputs": [],
   "execution_count": 4
  },
  {
   "cell_type": "markdown",
   "metadata": {},
   "source": [
    "## **Activity 4:** Step-length Distribution - (Source Dist. vs Observed Dist.)\n",
    "\n",
    "<details>\n",
    "  <summary style=\"cursor: pointer; color: gray\">Requirements</summary>\n",
    "\n",
    "  * **Write a function** that returns a **Lévy Walk (LW)** trajectory in a pandas DataFrame.\n",
    "  * **Consider** *two LW trajectories* with different **alpha coefficients**.\n",
    "  * **Write a function** that returns the **step lengths** for a given trajectory.\n",
    "  * **Compare** the observed distribution (*histogram*) to the source distribution (*curve*) for both trajectories, as shown in the figure below.\n",
    "  * **Display the results** using Plotly.\n",
    "</details>"
   ]
  },
  {
   "cell_type": "code",
   "metadata": {
    "ExecuteTime": {
     "end_time": "2025-03-01T15:39:27.811734Z",
     "start_time": "2025-03-01T15:39:27.808879Z"
    }
   },
   "source": "# Parameters\n",
   "outputs": [],
   "execution_count": 5
  }
 ],
 "metadata": {
  "kernelspec": {
   "display_name": "Python 3 (ipykernel)",
   "language": "python",
   "name": "python3"
  },
  "language_info": {
   "name": "python"
  }
 },
 "nbformat": 4,
 "nbformat_minor": 2
}
