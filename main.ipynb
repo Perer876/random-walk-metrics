{
 "cells": [
  {
   "cell_type": "markdown",
   "metadata": {},
   "source": [
    "# Homework 2\n",
    "\n",
    "**Name:** Oscar Eduardo Arámbula Vega\n",
    "\n",
    "**e-mail:** [oscar.arambula4388@alumnos.udg.mx](mailto:oscar.arambula4388@alumnos.udg.mx)"
   ]
  },
  {
   "cell_type": "markdown",
   "metadata": {},
   "source": [
    "# Modules\n",
    "\n"
   ]
  },
  {
   "cell_type": "code",
   "metadata": {
    "ExecuteTime": {
     "end_time": "2025-03-02T23:35:19.706262Z",
     "start_time": "2025-03-02T23:35:18.924918Z"
    }
   },
   "source": [
    "# Load modules\n",
    "import numpy as np\n",
    "import pandas as pd\n",
    "import matplotlib.pyplot as plt\n",
    "import plotly.graph_objects as go"
   ],
   "outputs": [],
   "execution_count": 2
  },
  {
   "cell_type": "markdown",
   "metadata": {},
   "source": [
    "## **Activity 1:** Path length - (BM1 vs BM2 vs CRW)\n",
    "\n",
    "<details>\n",
    "  <summary style=\"cursor: pointer; color: gray\">Requirements</summary>\n",
    "\n",
    "  * **Write a function** that returns a **Brownian Motion (BM)** trajectory in a pandas DataFrame.\n",
    "  * **Write a function** that returns a **Correlated Random Walk (CRW)** trajectory in a pandas DataFrame.\n",
    "  * **Write a function** that returns the **path length** for a given trajectory.\n",
    "  * **Compare** at least the path length of *three trajectories* as shown in the figure below.\n",
    "  * **Display the results** using Plotly.\n",
    "</details>"
   ]
  },
  {
   "cell_type": "code",
   "metadata": {
    "ExecuteTime": {
     "end_time": "2025-03-02T23:39:45.525901Z",
     "start_time": "2025-03-02T23:39:45.448708Z"
    }
   },
   "source": [
    "def brownian_motion_2d(\n",
    "    steps: int,\n",
    "    length: float = 1.0,\n",
    "    start: tuple = (0,0),\n",
    ") -> pd.DataFrame:\n",
    "    \"\"\"\n",
    "    Generate a 2D Brownian motion trajectory.\n",
    "    \"\"\"\n",
    "    # Choose random angles randomly between (0, 90, 180, 270) degrees in radians.\n",
    "    angles = np.random.choice([0, np.pi/2, np.pi, 3*np.pi/2], size=steps-1)\n",
    "\n",
    "    # Cumulative angles\n",
    "    cumulative_angles = np.cumsum(angles)\n",
    "\n",
    "    # Velocities with a length of 1.0\n",
    "    velocities = np.column_stack([np.cos(cumulative_angles), np.sin(cumulative_angles)])\n",
    "\n",
    "    # We adjust vectors' length\n",
    "    velocities *= length\n",
    "\n",
    "    # Prepend the initial position\n",
    "    velocities = np.vstack([start, velocities])\n",
    "\n",
    "    # The cumulative sum of the velocities\n",
    "    positions = np.cumsum(velocities, axis=0)\n",
    "\n",
    "    # Wrap the positions in a pandas DataFrame\n",
    "    return pd.DataFrame(positions, columns=['x', 'y'])\n",
    "\n",
    "\n",
    "# Parameters\n"
   ],
   "outputs": [
    {
     "data": {
      "text/plain": [
       "<Figure size 640x480 with 1 Axes>"
      ],
      "image/png": "[encoded data removed]"
     },
     "metadata": {},
     "output_type": "display_data"
    }
   ],
   "execution_count": 19
  },
  {
   "cell_type": "markdown",
   "metadata": {},
   "source": [
    "## **Activity 2:** Mean Squared Displacement - (BM vs CRW)\n",
    "\n",
    "<details>\n",
    "  <summary style=\"cursor: pointer; color: gray\">Requirements</summary>\n",
    "\n",
    "  * **Write a function** that returns the **mean squared displacement** for a given trajectory.\n",
    "  * **Compare** the mean squared displacement curves of at least *two trajectories* of different kinds, as shown in the figure below.\n",
    "  * **Display the results** using Plotly.\n",
    "</details>"
   ]
  },
  {
   "cell_type": "code",
   "metadata": {
    "ExecuteTime": {
     "end_time": "2025-03-01T15:32:50.772013Z",
     "start_time": "2025-03-01T15:32:50.769117Z"
    }
   },
   "source": "# Parameters\n",
   "outputs": [],
   "execution_count": 3
  },
  {
   "cell_type": "markdown",
   "metadata": {},
   "source": [
    "## **Activity 3:** Turning-angle Distribution - (Source Dist. vs Observed Dist.)\n",
    "\n",
    "<details>\n",
    "  <summary style=\"cursor: pointer; color: gray\">Requirements</summary>\n",
    "\n",
    "  * **Consider** *two CRW trajectories* with different **Cauchy coefficients**.\n",
    "  * **Write a function** that returns the **turning angles** for a given trajectory.\n",
    "  * **Compare** the observed distribution (*histogram*) to the source distribution (*curve*) for both trajectories, as shown in the figure below.\n",
    "  * **Display the results** using Plotly.\n",
    "</details>"
   ]
  },
  {
   "cell_type": "code",
   "metadata": {
    "ExecuteTime": {
     "end_time": "2025-03-01T15:38:32.931180Z",
     "start_time": "2025-03-01T15:38:32.928195Z"
    }
   },
   "source": "# Parameters\n",
   "outputs": [],
   "execution_count": 4
  },
  {
   "cell_type": "markdown",
   "metadata": {},
   "source": [
    "## **Activity 4:** Step-length Distribution - (Source Dist. vs Observed Dist.)\n",
    "\n",
    "<details>\n",
    "  <summary style=\"cursor: pointer; color: gray\">Requirements</summary>\n",
    "\n",
    "  * **Write a function** that returns a **Lévy Walk (LW)** trajectory in a pandas DataFrame.\n",
    "  * **Consider** *two LW trajectories* with different **alpha coefficients**.\n",
    "  * **Write a function** that returns the **step lengths** for a given trajectory.\n",
    "  * **Compare** the observed distribution (*histogram*) to the source distribution (*curve*) for both trajectories, as shown in the figure below.\n",
    "  * **Display the results** using Plotly.\n",
    "</details>"
   ]
  },
  {
   "cell_type": "code",
   "metadata": {
    "ExecuteTime": {
     "end_time": "2025-03-01T15:39:27.811734Z",
     "start_time": "2025-03-01T15:39:27.808879Z"
    }
   },
   "source": "# Parameters\n",
   "outputs": [],
   "execution_count": 5
  }
 ],
 "metadata": {
  "kernelspec": {
   "display_name": "Python 3 (ipykernel)",
   "language": "python",
   "name": "python3"
  },
  "language_info": {
   "name": "python"
  }
 },
 "nbformat": 4,
 "nbformat_minor": 2
}
